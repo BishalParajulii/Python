{
 "cells": [
  {
   "cell_type": "code",
   "execution_count": 2,
   "id": "62539665",
   "metadata": {},
   "outputs": [
    {
     "name": "stdout",
     "output_type": "stream",
     "text": [
      "Predicted values: [18. 21. 24. 27. 30. 33.]\n"
     ]
    }
   ],
   "source": [
    "import numpy as np\n",
    "from sklearn.linear_model import LinearRegression\n",
    "\n",
    "# Sample input data\n",
    "X = np.array([[1], [2], [3], [4], [5]])\n",
    "y = np.array([3,6,9,12,15])\n",
    "\n",
    "# Create a linear regression model\n",
    "model = LinearRegression()\n",
    "\n",
    "# Train the model\n",
    "model.fit(X, y)\n",
    "\n",
    "# Predict using the trained model\n",
    "X_test = np.array([[6], [7], [8],[9],[10],[11]])\n",
    "y_pred = model.predict(X_test)\n",
    "\n",
    "# Print the predicted values\n",
    "print(\"Predicted values:\", y_pred)"
   ]
  },
  {
   "cell_type": "code",
   "execution_count": null,
   "id": "34de9e0f",
   "metadata": {},
   "outputs": [],
   "source": []
  }
 ],
 "metadata": {
  "kernelspec": {
   "display_name": "Python 3 (ipykernel)",
   "language": "python",
   "name": "python3"
  },
  "language_info": {
   "codemirror_mode": {
    "name": "ipython",
    "version": 3
   },
   "file_extension": ".py",
   "mimetype": "text/x-python",
   "name": "python",
   "nbconvert_exporter": "python",
   "pygments_lexer": "ipython3",
   "version": "3.11.2"
  }
 },
 "nbformat": 4,
 "nbformat_minor": 5
}
