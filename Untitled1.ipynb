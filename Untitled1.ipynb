{
 "cells": [
  {
   "cell_type": "code",
   "execution_count": null,
   "id": "71f44372",
   "metadata": {},
   "outputs": [],
   "source": [
    "import turtle\n",
    "\n",
    "# Set up the turtle\n",
    "t = turtle.Turtle()\n",
    "t.speed(0)\n",
    "t.color('red')\n",
    "t.pensize(5)\n",
    "\n",
    "# Draw the heart\n",
    "t.left(45)\n",
    "t.forward(100)\n",
    "t.circle(50, 180)\n",
    "t.right(90)\n",
    "t.circle(50, 180)\n",
    "t.forward(100)\n",
    "\n",
    "# Hide the turtle\n",
    "t.hideturtle()\n",
    "\n",
    "# Keep the window open\n",
    "turtle.done()"
   ]
  },
  {
   "cell_type": "code",
   "execution_count": 1,
   "id": "76ac2d05",
   "metadata": {
    "collapsed": true
   },
   "outputs": [
    {
     "ename": "NameError",
     "evalue": "name 'turtle' is not defined",
     "output_type": "error",
     "traceback": [
      "\u001b[1;31m---------------------------------------------------------------------------\u001b[0m",
      "\u001b[1;31mNameError\u001b[0m                                 Traceback (most recent call last)",
      "Cell \u001b[1;32mIn[1], line 20\u001b[0m\n\u001b[0;32m     17\u001b[0m t\u001b[38;5;241m.\u001b[39mhideturtle()\n\u001b[0;32m     19\u001b[0m \u001b[38;5;66;03m# Keep the window open\u001b[39;00m\n\u001b[1;32m---> 20\u001b[0m \u001b[43mturtle\u001b[49m\u001b[38;5;241m.\u001b[39mdone()\n",
      "\u001b[1;31mNameError\u001b[0m: name 'turtle' is not defined"
     ]
    }
   ],
   "source": [
    "import turtle as t\n",
    "\n",
    "# Set up the turtle\n",
    "t.speed(0)\n",
    "t.color('red')\n",
    "t.pensize(5)\n",
    "\n",
    "# Draw the heart\n",
    "t.left(45)\n",
    "t.forward(100)\n",
    "t.circle(50, 180)\n",
    "t.right(90)\n",
    "t.circle(50, 180)\n",
    "t.forward(100)\n",
    "\n",
    "# Hide the turtle\n",
    "t.hideturtle()\n",
    "\n",
    "# Keep the window open\n",
    "turtle.done()\n"
   ]
  },
  {
   "cell_type": "code",
   "execution_count": null,
   "id": "87d4f9d0",
   "metadata": {},
   "outputs": [],
   "source": []
  },
  {
   "cell_type": "code",
   "execution_count": null,
   "id": "4fcd69f8",
   "metadata": {},
   "outputs": [],
   "source": []
  },
  {
   "cell_type": "code",
   "execution_count": null,
   "id": "91d42c94",
   "metadata": {},
   "outputs": [],
   "source": []
  },
  {
   "cell_type": "code",
   "execution_count": null,
   "id": "5b86768f",
   "metadata": {},
   "outputs": [],
   "source": []
  },
  {
   "cell_type": "code",
   "execution_count": null,
   "id": "1a147152",
   "metadata": {},
   "outputs": [],
   "source": []
  },
  {
   "cell_type": "code",
   "execution_count": null,
   "id": "59131868",
   "metadata": {},
   "outputs": [],
   "source": []
  },
  {
   "cell_type": "code",
   "execution_count": null,
   "id": "defd9473",
   "metadata": {},
   "outputs": [],
   "source": []
  },
  {
   "cell_type": "code",
   "execution_count": null,
   "id": "eebe3faa",
   "metadata": {},
   "outputs": [],
   "source": []
  },
  {
   "cell_type": "code",
   "execution_count": null,
   "id": "d47fab53",
   "metadata": {},
   "outputs": [],
   "source": []
  },
  {
   "cell_type": "code",
   "execution_count": null,
   "id": "a15e1221",
   "metadata": {},
   "outputs": [],
   "source": []
  },
  {
   "cell_type": "code",
   "execution_count": null,
   "id": "d2a290d9",
   "metadata": {},
   "outputs": [],
   "source": []
  },
  {
   "cell_type": "code",
   "execution_count": null,
   "id": "d0e6abe3",
   "metadata": {},
   "outputs": [],
   "source": []
  }
 ],
 "metadata": {
  "kernelspec": {
   "display_name": "Python 3 (ipykernel)",
   "language": "python",
   "name": "python3"
  },
  "language_info": {
   "codemirror_mode": {
    "name": "ipython",
    "version": 3
   },
   "file_extension": ".py",
   "mimetype": "text/x-python",
   "name": "python",
   "nbconvert_exporter": "python",
   "pygments_lexer": "ipython3",
   "version": "3.11.2"
  }
 },
 "nbformat": 4,
 "nbformat_minor": 5
}
