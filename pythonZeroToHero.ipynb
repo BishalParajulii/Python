{
 "cells": [
  {
   "cell_type": "markdown",
   "id": "15a899c3",
   "metadata": {},
   "source": [
    "#this is Python "
   ]
  },
  {
   "cell_type": "markdown",
   "id": "ce2382d8",
   "metadata": {},
   "source": []
  },
  {
   "cell_type": "code",
   "execution_count": 1,
   "id": "bbf05325",
   "metadata": {},
   "outputs": [
    {
     "name": "stdout",
     "output_type": "stream",
     "text": [
      "Hello World\n"
     ]
    }
   ],
   "source": [
    "print(\"Hello World\")"
   ]
  },
  {
   "cell_type": "code",
   "execution_count": 2,
   "id": "1e41ee13",
   "metadata": {
    "collapsed": true
   },
   "outputs": [
    {
     "ename": "SyntaxError",
     "evalue": "invalid syntax (996037052.py, line 1)",
     "output_type": "error",
     "traceback": [
      "\u001b[1;36m  Cell \u001b[1;32mIn[2], line 1\u001b[1;36m\u001b[0m\n\u001b[1;33m    $a=b+c$\u001b[0m\n\u001b[1;37m    ^\u001b[0m\n\u001b[1;31mSyntaxError\u001b[0m\u001b[1;31m:\u001b[0m invalid syntax\n"
     ]
    }
   ],
   "source": [
    "$a=b+c$"
   ]
  },
  {
   "cell_type": "code",
   "execution_count": 4,
   "id": "3bc46f9c",
   "metadata": {},
   "outputs": [
    {
     "ename": "SyntaxError",
     "evalue": "invalid syntax (996037052.py, line 1)",
     "output_type": "error",
     "traceback": [
      "\u001b[1;36m  Cell \u001b[1;32mIn[4], line 1\u001b[1;36m\u001b[0m\n\u001b[1;33m    $a=b+c$\u001b[0m\n\u001b[1;37m    ^\u001b[0m\n\u001b[1;31mSyntaxError\u001b[0m\u001b[1;31m:\u001b[0m invalid syntax\n"
     ]
    }
   ],
   "source": [
    "$a=b+c$"
   ]
  },
  {
   "cell_type": "code",
   "execution_count": 1,
   "id": "d5645135",
   "metadata": {},
   "outputs": [
    {
     "name": "stdout",
     "output_type": "stream",
     "text": [
      "4\n"
     ]
    }
   ],
   "source": [
    "a=10-9\n",
    "b=3\n",
    "c=a+b\n",
    "print(c)"
   ]
  },
  {
   "cell_type": "code",
   "execution_count": 2,
   "id": "cb0ceef4",
   "metadata": {},
   "outputs": [
    {
     "name": "stdout",
     "output_type": "stream",
     "text": [
      "45.57\n",
      "45\n"
     ]
    }
   ],
   "source": [
    "a,b=45.57,45\n",
    "print(a)\n",
    "print(b)"
   ]
  },
  {
   "cell_type": "code",
   "execution_count": 4,
   "id": "5ee88392",
   "metadata": {},
   "outputs": [
    {
     "name": "stdout",
     "output_type": "stream",
     "text": [
      "Bishal\n"
     ]
    }
   ],
   "source": [
    "x=\"Bishal\"\n",
    "print(x)\n"
   ]
  },
  {
   "cell_type": "code",
   "execution_count": 5,
   "id": "f1df4649",
   "metadata": {},
   "outputs": [
    {
     "data": {
      "text/plain": [
       "str"
      ]
     },
     "execution_count": 5,
     "metadata": {},
     "output_type": "execute_result"
    }
   ],
   "source": [
    "type(x)\n"
   ]
  },
  {
   "cell_type": "code",
   "execution_count": 6,
   "id": "04d418fb",
   "metadata": {},
   "outputs": [
    {
     "data": {
      "text/plain": [
       "float"
      ]
     },
     "execution_count": 6,
     "metadata": {},
     "output_type": "execute_result"
    }
   ],
   "source": [
    "type(a)"
   ]
  },
  {
   "cell_type": "code",
   "execution_count": 7,
   "id": "fb4d65a0",
   "metadata": {},
   "outputs": [
    {
     "name": "stdout",
     "output_type": "stream",
     "text": [
      "Variable   Type     Data/Info\n",
      "-----------------------------\n",
      "a          float    45.57\n",
      "b          int      45\n",
      "c          int      4\n",
      "x          str      Bishal\n"
     ]
    }
   ],
   "source": [
    "%whos\n"
   ]
  },
  {
   "cell_type": "code",
   "execution_count": 8,
   "id": "e89b979a",
   "metadata": {},
   "outputs": [
    {
     "data": {
      "text/plain": [
       "int"
      ]
     },
     "execution_count": 8,
     "metadata": {},
     "output_type": "execute_result"
    }
   ],
   "source": [
    "type(b)"
   ]
  },
  {
   "cell_type": "code",
   "execution_count": 9,
   "id": "f014b7b5",
   "metadata": {},
   "outputs": [
    {
     "name": "stdout",
     "output_type": "stream",
     "text": [
      "<class 'int'>\n"
     ]
    }
   ],
   "source": [
    "print(type(b))"
   ]
  },
  {
   "cell_type": "code",
   "execution_count": 10,
   "id": "e884a803",
   "metadata": {},
   "outputs": [],
   "source": [
    "del b"
   ]
  },
  {
   "cell_type": "code",
   "execution_count": 11,
   "id": "2fd80852",
   "metadata": {},
   "outputs": [
    {
     "name": "stdout",
     "output_type": "stream",
     "text": [
      "Variable   Type     Data/Info\n",
      "-----------------------------\n",
      "a          float    45.57\n",
      "c          int      4\n",
      "x          str      Bishal\n"
     ]
    }
   ],
   "source": [
    "%whos\n"
   ]
  },
  {
   "cell_type": "code",
   "execution_count": 12,
   "id": "86970fb6",
   "metadata": {},
   "outputs": [
    {
     "ename": "NameError",
     "evalue": "name 'b' is not defined",
     "output_type": "error",
     "traceback": [
      "\u001b[1;31m---------------------------------------------------------------------------\u001b[0m",
      "\u001b[1;31mNameError\u001b[0m                                 Traceback (most recent call last)",
      "Cell \u001b[1;32mIn[12], line 1\u001b[0m\n\u001b[1;32m----> 1\u001b[0m \u001b[38;5;28mprint\u001b[39m(\u001b[43mb\u001b[49m)\n",
      "\u001b[1;31mNameError\u001b[0m: name 'b' is not defined"
     ]
    }
   ],
   "source": [
    "print(b)"
   ]
  },
  {
   "cell_type": "code",
   "execution_count": 13,
   "id": "3dee7185",
   "metadata": {},
   "outputs": [],
   "source": [
    "c=4+3j\n",
    "d=4+5j"
   ]
  },
  {
   "cell_type": "code",
   "execution_count": 14,
   "id": "fd1fff62",
   "metadata": {},
   "outputs": [
    {
     "name": "stdout",
     "output_type": "stream",
     "text": [
      "(8+8j)\n"
     ]
    }
   ],
   "source": [
    "print(c+d)"
   ]
  },
  {
   "cell_type": "code",
   "execution_count": 15,
   "id": "d3446a6a",
   "metadata": {},
   "outputs": [
    {
     "data": {
      "text/plain": [
       "complex"
      ]
     },
     "execution_count": 15,
     "metadata": {},
     "output_type": "execute_result"
    }
   ],
   "source": [
    "type(c)"
   ]
  },
  {
   "cell_type": "code",
   "execution_count": 16,
   "id": "5963a975",
   "metadata": {},
   "outputs": [
    {
     "name": "stdout",
     "output_type": "stream",
     "text": [
      "4\n"
     ]
    }
   ],
   "source": [
    "print(4%5)"
   ]
  },
  {
   "cell_type": "code",
   "execution_count": 17,
   "id": "e1acbd14",
   "metadata": {},
   "outputs": [
    {
     "name": "stdout",
     "output_type": "stream",
     "text": [
      "0\n"
     ]
    }
   ],
   "source": [
    "print(4//5)"
   ]
  },
  {
   "cell_type": "code",
   "execution_count": 18,
   "id": "4c78079d",
   "metadata": {},
   "outputs": [
    {
     "name": "stdout",
     "output_type": "stream",
     "text": [
      "11\n"
     ]
    }
   ],
   "source": [
    "print(200//18)"
   ]
  },
  {
   "cell_type": "code",
   "execution_count": 19,
   "id": "b055e886",
   "metadata": {},
   "outputs": [
    {
     "name": "stdout",
     "output_type": "stream",
     "text": [
      "11.11111111111111\n"
     ]
    }
   ],
   "source": [
    "print(200/18)"
   ]
  },
  {
   "cell_type": "code",
   "execution_count": 20,
   "id": "cb6f24ff",
   "metadata": {},
   "outputs": [
    {
     "name": "stdout",
     "output_type": "stream",
     "text": [
      "1024\n"
     ]
    }
   ],
   "source": [
    "print(4**5)"
   ]
  },
  {
   "cell_type": "markdown",
   "id": "8b91414a",
   "metadata": {},
   "source": [
    "# operators"
   ]
  },
  {
   "cell_type": "code",
   "execution_count": 21,
   "id": "9e8048dc",
   "metadata": {},
   "outputs": [
    {
     "name": "stdout",
     "output_type": "stream",
     "text": [
      "Variable   Type       Data/Info\n",
      "-------------------------------\n",
      "a          float      45.57\n",
      "c          complex    (4+3j)\n",
      "d          complex    (4+5j)\n",
      "x          str        Bishal\n"
     ]
    }
   ],
   "source": [
    "%whos"
   ]
  },
  {
   "cell_type": "code",
   "execution_count": 24,
   "id": "66cc3034",
   "metadata": {},
   "outputs": [
    {
     "ename": "SyntaxError",
     "evalue": "expected ':' (433279935.py, line 1)",
     "output_type": "error",
     "traceback": [
      "\u001b[1;36m  Cell \u001b[1;32mIn[24], line 1\u001b[1;36m\u001b[0m\n\u001b[1;33m    if(4<=5)\u001b[0m\n\u001b[1;37m            ^\u001b[0m\n\u001b[1;31mSyntaxError\u001b[0m\u001b[1;31m:\u001b[0m expected ':'\n"
     ]
    }
   ],
   "source": [
    "if(4<=5)\n",
    "\n",
    "    print(\"hello\"):\n",
    "else\n",
    "    print(\"world\"):\n"
   ]
  },
  {
   "cell_type": "code",
   "execution_count": 25,
   "id": "f3332a50",
   "metadata": {},
   "outputs": [
    {
     "name": "stdout",
     "output_type": "stream",
     "text": [
      "Enter a number5\n",
      "5\n"
     ]
    }
   ],
   "source": [
    "a=input(\"Enter a number\")\n",
    "print(a)"
   ]
  },
  {
   "cell_type": "code",
   "execution_count": 26,
   "id": "4d400377",
   "metadata": {},
   "outputs": [
    {
     "name": "stdout",
     "output_type": "stream",
     "text": [
      "Enter a stringBishal\n"
     ]
    }
   ],
   "source": [
    "b=input(\"Enter a string\")\n"
   ]
  },
  {
   "cell_type": "code",
   "execution_count": 27,
   "id": "9c71f411",
   "metadata": {},
   "outputs": [
    {
     "name": "stdout",
     "output_type": "stream",
     "text": [
      "Bishal\n"
     ]
    }
   ],
   "source": [
    "print(b)"
   ]
  },
  {
   "cell_type": "code",
   "execution_count": 28,
   "id": "2b85e991",
   "metadata": {},
   "outputs": [
    {
     "data": {
      "text/plain": [
       "str"
      ]
     },
     "execution_count": 28,
     "metadata": {},
     "output_type": "execute_result"
    }
   ],
   "source": [
    "type(b)"
   ]
  },
  {
   "cell_type": "code",
   "execution_count": 29,
   "id": "120096a1",
   "metadata": {},
   "outputs": [
    {
     "name": "stdout",
     "output_type": "stream",
     "text": [
      "En4\n"
     ]
    }
   ],
   "source": [
    "c=input(\"En\")"
   ]
  },
  {
   "cell_type": "code",
   "execution_count": 30,
   "id": "0aa6101e",
   "metadata": {},
   "outputs": [
    {
     "data": {
      "text/plain": [
       "str"
      ]
     },
     "execution_count": 30,
     "metadata": {},
     "output_type": "execute_result"
    }
   ],
   "source": [
    "type(c)"
   ]
  },
  {
   "cell_type": "code",
   "execution_count": 32,
   "id": "ef1a39e0",
   "metadata": {},
   "outputs": [
    {
     "data": {
      "text/plain": [
       "int"
      ]
     },
     "execution_count": 32,
     "metadata": {},
     "output_type": "execute_result"
    }
   ],
   "source": [
    "c=int(c)\n",
    "type(c)"
   ]
  },
  {
   "cell_type": "code",
   "execution_count": 34,
   "id": "46b61ca5",
   "metadata": {},
   "outputs": [
    {
     "name": "stdout",
     "output_type": "stream",
     "text": [
      "Enter a number5\n"
     ]
    }
   ],
   "source": [
    "x=int(input(\"Enter a number\"))"
   ]
  },
  {
   "cell_type": "code",
   "execution_count": 35,
   "id": "669c0105",
   "metadata": {},
   "outputs": [
    {
     "name": "stdout",
     "output_type": "stream",
     "text": [
      "Object `else` not found.\n"
     ]
    }
   ],
   "source": [
    "if else?"
   ]
  },
  {
   "cell_type": "code",
   "execution_count": 36,
   "id": "75d3f08b",
   "metadata": {},
   "outputs": [
    {
     "name": "stdout",
     "output_type": "stream",
     "text": [
      "Object `if` not found.\n"
     ]
    }
   ],
   "source": [
    "else if?"
   ]
  },
  {
   "cell_type": "code",
   "execution_count": 37,
   "id": "265958f4",
   "metadata": {},
   "outputs": [
    {
     "name": "stdout",
     "output_type": "stream",
     "text": [
      "Object `if` not found.\n"
     ]
    }
   ],
   "source": [
    "if?"
   ]
  },
  {
   "cell_type": "code",
   "execution_count": 38,
   "id": "8bc8ca35",
   "metadata": {},
   "outputs": [],
   "source": [
    "pow?"
   ]
  },
  {
   "cell_type": "code",
   "execution_count": 39,
   "id": "4d6de994",
   "metadata": {},
   "outputs": [
    {
     "ename": "SyntaxError",
     "evalue": "invalid syntax (1401312206.py, line 1)",
     "output_type": "error",
     "traceback": [
      "\u001b[1;36m  Cell \u001b[1;32mIn[39], line 1\u001b[1;36m\u001b[0m\n\u001b[1;33m    if()?\u001b[0m\n\u001b[1;37m        ^\u001b[0m\n\u001b[1;31mSyntaxError\u001b[0m\u001b[1;31m:\u001b[0m invalid syntax\n"
     ]
    }
   ],
   "source": [
    "if()?"
   ]
  },
  {
   "cell_type": "code",
   "execution_count": 40,
   "id": "0e6483ef",
   "metadata": {},
   "outputs": [
    {
     "name": "stdout",
     "output_type": "stream",
     "text": [
      "Object `if` not found.\n"
     ]
    }
   ],
   "source": [
    "if??\n"
   ]
  },
  {
   "cell_type": "code",
   "execution_count": 41,
   "id": "4aae1c1a",
   "metadata": {},
   "outputs": [],
   "source": [
    "pow??"
   ]
  },
  {
   "cell_type": "code",
   "execution_count": 44,
   "id": "6dffc905",
   "metadata": {},
   "outputs": [
    {
     "name": "stdout",
     "output_type": "stream",
     "text": [
      "Help on method raw_input in module ipykernel.kernelbase:\n",
      "\n",
      "raw_input(prompt='') method of ipykernel.ipkernel.IPythonKernel instance\n",
      "    Forward raw_input to frontends\n",
      "    \n",
      "    Raises\n",
      "    ------\n",
      "    StdinNotImplementedError if active frontend doesn't support stdin.\n",
      "\n"
     ]
    }
   ],
   "source": [
    "help(input)"
   ]
  },
  {
   "cell_type": "code",
   "execution_count": 47,
   "id": "f8df2f82",
   "metadata": {},
   "outputs": [
    {
     "name": "stdout",
     "output_type": "stream",
     "text": [
      "World\n"
     ]
    }
   ],
   "source": [
    "a=10\n",
    "b=20\n",
    "if a>b:\n",
    "    print(\"Hello\")\n",
    "else:\n",
    "    print(\"World\")"
   ]
  },
  {
   "cell_type": "code",
   "execution_count": 48,
   "id": "169cc700",
   "metadata": {},
   "outputs": [
    {
     "name": "stdout",
     "output_type": "stream",
     "text": [
      "20\n"
     ]
    }
   ],
   "source": [
    "if a>b:\n",
    "    print(a)\n",
    "elif a==b:\n",
    "    print(a,b)\n",
    "else:\n",
    "    print(b)"
   ]
  },
  {
   "cell_type": "code",
   "execution_count": 49,
   "id": "7b021579",
   "metadata": {},
   "outputs": [
    {
     "name": "stdout",
     "output_type": "stream",
     "text": [
      "10 10\n"
     ]
    }
   ],
   "source": [
    "a=10\n",
    "b=10\n",
    "if a>b:\n",
    "    print(a)\n",
    "elif a==b:\n",
    "    print(a,b)\n",
    "else:\n",
    "    print(b)"
   ]
  },
  {
   "cell_type": "code",
   "execution_count": 50,
   "id": "fc546a5f",
   "metadata": {},
   "outputs": [
    {
     "data": {
      "text/plain": [
       "'\\nIts a multi line comment \\n'"
      ]
     },
     "execution_count": 50,
     "metadata": {},
     "output_type": "execute_result"
    }
   ],
   "source": [
    "# single line comment \n",
    "\"\"\"\n",
    "Its a multi line comment \n",
    "\"\"\"\n"
   ]
  },
  {
   "cell_type": "code",
   "execution_count": 2,
   "id": "d2248476",
   "metadata": {
    "scrolled": true
   },
   "outputs": [
    {
     "name": "stdout",
     "output_type": "stream",
     "text": [
      "Enter upper limit100\n",
      "2\n",
      "4\n",
      "6\n",
      "8\n",
      "10\n",
      "12\n",
      "14\n",
      "16\n",
      "18\n",
      "20\n",
      "22\n",
      "24\n",
      "26\n",
      "28\n",
      "30\n",
      "32\n",
      "34\n",
      "36\n",
      "38\n",
      "40\n",
      "42\n",
      "44\n",
      "46\n",
      "48\n",
      "50\n",
      "52\n",
      "54\n",
      "56\n",
      "58\n",
      "60\n",
      "62\n",
      "64\n",
      "66\n",
      "68\n",
      "70\n",
      "72\n",
      "74\n",
      "76\n",
      "78\n",
      "80\n",
      "82\n",
      "84\n",
      "86\n",
      "88\n",
      "90\n",
      "92\n",
      "94\n",
      "96\n",
      "98\n"
     ]
    }
   ],
   "source": [
    "n=int(input(\"Enter upper limit\"))\n",
    "i=1\n",
    "while i<n:\n",
    "    if i%2==0:\n",
    "        print(i)\n",
    "    i+=1"
   ]
  },
  {
   "cell_type": "code",
   "execution_count": 3,
   "id": "03ce391c",
   "metadata": {},
   "outputs": [
    {
     "name": "stdout",
     "output_type": "stream",
     "text": [
      "1\n"
     ]
    },
    {
     "ename": "NameError",
     "evalue": "name 'L' is not defined",
     "output_type": "error",
     "traceback": [
      "\u001b[1;31m---------------------------------------------------------------------------\u001b[0m",
      "\u001b[1;31mNameError\u001b[0m                                 Traceback (most recent call last)",
      "Cell \u001b[1;32mIn[3], line 4\u001b[0m\n\u001b[0;32m      2\u001b[0m \u001b[38;5;28;01mfor\u001b[39;00m i \u001b[38;5;129;01min\u001b[39;00m \u001b[38;5;28mrange\u001b[39m(\u001b[38;5;241m10\u001b[39m):\n\u001b[0;32m      3\u001b[0m     \u001b[38;5;28mprint\u001b[39m(i\u001b[38;5;241m+\u001b[39m\u001b[38;5;241m1\u001b[39m)\n\u001b[1;32m----> 4\u001b[0m     \u001b[43mL\u001b[49m\u001b[38;5;241m.\u001b[39mappend(i\u001b[38;5;241m*\u001b[39m\u001b[38;5;241m*\u001b[39m\u001b[38;5;241m2\u001b[39m)\n",
      "\u001b[1;31mNameError\u001b[0m: name 'L' is not defined"
     ]
    }
   ],
   "source": [
    "i=1\n",
    "for i in range(10):\n",
    "    print(i+1)\n",
    "    L.append(i**2)"
   ]
  },
  {
   "cell_type": "code",
   "execution_count": 5,
   "id": "b5b76d18",
   "metadata": {},
   "outputs": [
    {
     "name": "stdout",
     "output_type": "stream",
     "text": [
      "2\n",
      "3\n",
      "4\n",
      "5\n",
      "6\n",
      "7\n",
      "8\n",
      "9\n"
     ]
    }
   ],
   "source": [
    "a=[2,3,4,5,6,7,8,9]\n",
    "i=0\n",
    "for i in range(8):\n",
    "    print(a[i])"
   ]
  },
  {
   "cell_type": "code",
   "execution_count": 9,
   "id": "7ce929d6",
   "metadata": {},
   "outputs": [
    {
     "name": "stdout",
     "output_type": "stream",
     "text": [
      "0\n",
      "2\n",
      "4\n",
      "6\n",
      "8\n",
      "[0, 4, 16, 36, 64]\n"
     ]
    }
   ],
   "source": [
    "L=[]\n",
    "for i in range(0,10,2):\n",
    "    print(i)\n",
    "    L.append(i**2)\n",
    "print(L)"
   ]
  },
  {
   "cell_type": "code",
   "execution_count": 10,
   "id": "6482fff6",
   "metadata": {},
   "outputs": [
    {
     "name": "stdout",
     "output_type": "stream",
     "text": [
      "A 10\n",
      "B 20\n",
      "C 30\n"
     ]
    }
   ],
   "source": [
    "d= {\"A\":10,\"B\":20,\"C\":30}\n",
    "for x in d:\n",
    "    print(x,d[x])\n"
   ]
  },
  {
   "cell_type": "code",
   "execution_count": 16,
   "id": "2d222837",
   "metadata": {},
   "outputs": [
    {
     "name": "stdout",
     "output_type": "stream",
     "text": [
      "-5\n",
      "0\n"
     ]
    }
   ],
   "source": [
    "d=[1,2,4,0,9,3,-5,2]\n",
    "m=d[0]\n",
    "for i in d:\n",
    "    if i<m:\n",
    "        m=i\n",
    "print(m)\n"
   ]
  },
  {
   "cell_type": "code",
   "execution_count": 17,
   "id": "d1f9563d",
   "metadata": {},
   "outputs": [],
   "source": [
    "def hello():\n",
    "    \"\"\" \n",
    "    this function is nothing .\n",
    "    \"\"\"\n",
    "    "
   ]
  },
  {
   "cell_type": "code",
   "execution_count": 19,
   "id": "225bf797",
   "metadata": {},
   "outputs": [],
   "source": [
    "hello??"
   ]
  },
  {
   "cell_type": "code",
   "execution_count": 20,
   "id": "38aee48a",
   "metadata": {},
   "outputs": [],
   "source": [
    "len?"
   ]
  },
  {
   "cell_type": "code",
   "execution_count": 21,
   "id": "1c3f3121",
   "metadata": {},
   "outputs": [
    {
     "name": "stdout",
     "output_type": "stream",
     "text": [
      "Help on function hello in module __main__:\n",
      "\n",
      "hello()\n",
      "    this function is nothing .\n",
      "\n"
     ]
    }
   ],
   "source": [
    "help(hello)"
   ]
  },
  {
   "cell_type": "code",
   "execution_count": 23,
   "id": "87ba0d33",
   "metadata": {},
   "outputs": [
    {
     "name": "stdout",
     "output_type": "stream",
     "text": [
      "0\n",
      "1\n",
      "2\n",
      "3\n",
      "4\n",
      "5\n",
      "6\n",
      "7\n",
      "8\n",
      "9\n"
     ]
    }
   ],
   "source": [
    "for g in range(10):\n",
    "    print(g)\n",
    "    g+=1"
   ]
  },
  {
   "cell_type": "code",
   "execution_count": null,
   "id": "21703d09",
   "metadata": {},
   "outputs": [],
   "source": []
  },
  {
   "cell_type": "code",
   "execution_count": null,
   "id": "fa09b47a",
   "metadata": {},
   "outputs": [],
   "source": []
  },
  {
   "cell_type": "code",
   "execution_count": 1,
   "id": "e79f2524",
   "metadata": {},
   "outputs": [],
   "source": [
    "import sys\n",
    "sys.path.append('C:/abc/')"
   ]
  },
  {
   "cell_type": "code",
   "execution_count": 2,
   "id": "05ffa76b",
   "metadata": {},
   "outputs": [
    {
     "ename": "SyntaxError",
     "evalue": "invalid syntax (newFile.py, line 9)",
     "output_type": "error",
     "traceback": [
      "Traceback \u001b[1;36m(most recent call last)\u001b[0m:\n",
      "\u001b[0m  File \u001b[0;32mC:\\ProgramData\\anaconda3\\lib\\site-packages\\IPython\\core\\interactiveshell.py:3460\u001b[0m in \u001b[0;35mrun_code\u001b[0m\n    exec(code_obj, self.user_global_ns, self.user_ns)\u001b[0m\n",
      "\u001b[1;36m  Cell \u001b[1;32mIn[2], line 1\u001b[1;36m\n\u001b[1;33m    import newFile as myfs\u001b[1;36m\n",
      "\u001b[1;36m  File \u001b[1;32mC:\\abc\\newFile.py:9\u001b[1;36m\u001b[0m\n\u001b[1;33m    if not(isinstance(x,(int,float)):\u001b[0m\n\u001b[1;37m                                    ^\u001b[0m\n\u001b[1;31mSyntaxError\u001b[0m\u001b[1;31m:\u001b[0m invalid syntax\n"
     ]
    }
   ],
   "source": [
    "import newFile as myfs"
   ]
  },
  {
   "cell_type": "code",
   "execution_count": null,
   "id": "c7c40a5e",
   "metadata": {},
   "outputs": [],
   "source": []
  }
 ],
 "metadata": {
  "kernelspec": {
   "display_name": "Python 3 (ipykernel)",
   "language": "python",
   "name": "python3"
  },
  "language_info": {
   "codemirror_mode": {
    "name": "ipython",
    "version": 3
   },
   "file_extension": ".py",
   "mimetype": "text/x-python",
   "name": "python",
   "nbconvert_exporter": "python",
   "pygments_lexer": "ipython3",
   "version": "3.10.9"
  }
 },
 "nbformat": 4,
 "nbformat_minor": 5
}
