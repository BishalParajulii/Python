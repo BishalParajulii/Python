{
 "cells": [
  {
   "cell_type": "code",
   "execution_count": 4,
   "id": "c969d7c6",
   "metadata": {},
   "outputs": [
    {
     "name": "stdout",
     "output_type": "stream",
     "text": [
      "1:Scissor 2:paper 3:Rock\n",
      "1\n",
      "Enter your choice3\n",
      "You won\n"
     ]
    }
   ],
   "source": [
    "import random\n",
    "num = random.randint(1,3)\n",
    "print(\"1:Scissor 2:paper 3:Rock\")\n",
    "print(num)\n",
    "num2 = int(input(\"Enter your choice\"))\n",
    "if(num == num2):\n",
    "    print(\"Tie\")\n",
    "elif num2 == 1:\n",
    "    if num2 <= 2:\n",
    "        print(\"You won\")\n",
    "    else:\n",
    "        print(\"you lost\")\n",
    "elif num2 == 2:\n",
    "    if num == 3:\n",
    "        print(\"You won\")\n",
    "    else:\n",
    "        print(\"You lost\")\n",
    "elif num2 == 3:\n",
    "    if num ==1:\n",
    "        print(\"You won\")\n",
    "    else:\n",
    "        print(\"You lost\")"
   ]
  },
  {
   "cell_type": "code",
   "execution_count": null,
   "id": "6cccf1e9",
   "metadata": {},
   "outputs": [
    {
     "name": "stdout",
     "output_type": "stream",
     "text": [
      "1\n",
      "1. Rock 2.Sciscors 3.Paper\n"
     ]
    }
   ],
   "source": [
    "import random\n",
    "num = random.randint(1,3)\n",
    "print(num)\n",
    "print(\"1. Rock 2.Sciscors 3.Paper\")\n",
    "num2 = int(input(\"Enter your choice:\"))\n",
    "if(num == num2):\n",
    "    print(\"Tie\")\n",
    "elif(num == 1 and num2== 2):\n",
    "    print(\"You lost\")\n",
    "elif(num == 1 and num2== 3):\n",
    "    print(\"You won\") \n",
    "elif(num == 2 and num2 == 1):\n",
    "    print(\"you won\")\n",
    "elif(num == 2 and num2 == 3):\n",
    "    print(\"you lost\")\n",
    "elif( num ==3 and num2== 1):\n",
    "    print(\"you lose\")\n",
    "elif( num == 3 and num2 == 2):\n",
    "    print(\"you win\")"
   ]
  },
  {
   "cell_type": "code",
   "execution_count": null,
   "id": "a494c086",
   "metadata": {},
   "outputs": [],
   "source": []
  }
 ],
 "metadata": {
  "kernelspec": {
   "display_name": "Python 3 (ipykernel)",
   "language": "python",
   "name": "python3"
  },
  "language_info": {
   "codemirror_mode": {
    "name": "ipython",
    "version": 3
   },
   "file_extension": ".py",
   "mimetype": "text/x-python",
   "name": "python",
   "nbconvert_exporter": "python",
   "pygments_lexer": "ipython3",
   "version": "3.11.2"
  }
 },
 "nbformat": 4,
 "nbformat_minor": 5
}
