{
 "cells": [
  {
   "cell_type": "code",
   "execution_count": 1,
   "id": "cea9778f",
   "metadata": {},
   "outputs": [
    {
     "ename": "ModuleNotFoundError",
     "evalue": "No module named 'mysql'",
     "output_type": "error",
     "traceback": [
      "\u001b[1;31m---------------------------------------------------------------------------\u001b[0m",
      "\u001b[1;31mModuleNotFoundError\u001b[0m                       Traceback (most recent call last)",
      "Cell \u001b[1;32mIn[1], line 1\u001b[0m\n\u001b[1;32m----> 1\u001b[0m \u001b[38;5;28;01mimport\u001b[39;00m \u001b[38;5;21;01mmysql\u001b[39;00m\u001b[38;5;21;01m.\u001b[39;00m\u001b[38;5;21;01mconnector\u001b[39;00m\n",
      "\u001b[1;31mModuleNotFoundError\u001b[0m: No module named 'mysql'"
     ]
    }
   ],
   "source": [
    "import mysql.connector"
   ]
  },
  {
   "cell_type": "code",
   "execution_count": 1,
   "id": "cafc45d0",
   "metadata": {},
   "outputs": [
    {
     "name": "stdout",
     "output_type": "stream",
     "text": [
      "<mysql.connector.connection.MySQLConnection object at 0x000002BB2D8033D0>\n"
     ]
    }
   ],
   "source": [
    "import mysql.connector\n",
    "mydb = mysql.connector.connect(host = \"localhost\",\n",
    "                               username = \"root\",\n",
    "                               password=\"\"\n",
    "                              )\n",
    "print(mydb)"
   ]
  },
  {
   "cell_type": "code",
   "execution_count": 12,
   "id": "7d79729d",
   "metadata": {},
   "outputs": [],
   "source": [
    "import mysql.connector as cnn\n",
    "\n",
    "conn=cnn.connect( host=\"localhost\",\n",
    "                              user=\"root\",\n",
    "                              password=\"\",\n",
    "                              database=\"python\"\n",
    "                 )\n",
    "    "
   ]
  },
  {
   "cell_type": "code",
   "execution_count": 16,
   "id": "aaea206b",
   "metadata": {},
   "outputs": [
    {
     "ename": "NameError",
     "evalue": "name 'con' is not defined",
     "output_type": "error",
     "traceback": [
      "\u001b[1;31m---------------------------------------------------------------------------\u001b[0m",
      "\u001b[1;31mNameError\u001b[0m                                 Traceback (most recent call last)",
      "Cell \u001b[1;32mIn[16], line 2\u001b[0m\n\u001b[0;32m      1\u001b[0m query \u001b[38;5;241m=\u001b[39m \u001b[38;5;124m'\u001b[39m\u001b[38;5;124mcreate table if not exists user(userId int primary_key,userName varchar(200),phone int)\u001b[39m\u001b[38;5;124m'\u001b[39m\n\u001b[1;32m----> 2\u001b[0m cur \u001b[38;5;241m=\u001b[39m \u001b[43mcon\u001b[49m\u001b[38;5;241m.\u001b[39mcursor()\n\u001b[0;32m      3\u001b[0m cur\u001b[38;5;241m.\u001b[39mexecute(query)\n",
      "\u001b[1;31mNameError\u001b[0m: name 'con' is not defined"
     ]
    }
   ],
   "source": [
    "query = 'create table if not exists user(userId int primary_key,userName varchar(200),phone int)'\n",
    "cur = con.cursor()\n",
    "cur.execute(query)"
   ]
  },
  {
   "cell_type": "code",
   "execution_count": 16,
   "id": "dbe2880f",
   "metadata": {},
   "outputs": [
    {
     "name": "stdout",
     "output_type": "stream",
     "text": [
      "bishalparajuli\n"
     ]
    }
   ],
   "source": [
    "b = \"bishal\"\n",
    "c= \"parajuli\"\n",
    "# concatinate string\n",
    "\"\"\"\n",
    "this is multi-line comment\n",
    "\"\"\"\n",
    "print(b+c)"
   ]
  },
  {
   "cell_type": "code",
   "execution_count": 21,
   "id": "c915edde",
   "metadata": {},
   "outputs": [
    {
     "name": "stdout",
     "output_type": "stream",
     "text": [
      "parajuli\n",
      "parajuli\n",
      "parajuli\n",
      "parajuli\n",
      "parajuli\n",
      "parajuli\n",
      "parajuli\n",
      "parajuli\n",
      "parajuli\n",
      "parajuli\n",
      "parajuli\n",
      "parajuli\n",
      "parajuli\n",
      "parajuli\n",
      "Bishal\n",
      "parajuli\n",
      "parajuli\n",
      "parajuli\n",
      "parajuli\n"
     ]
    }
   ],
   "source": [
    "for i in range(1,20):\n",
    "    if i%3==0 and i%5==0:\n",
    "        print(\"Bishal\")\n",
    "    else:\n",
    "        print(\"parajuli\")\n",
    "     "
   ]
  },
  {
   "cell_type": "code",
   "execution_count": 24,
   "id": "1a46201c",
   "metadata": {},
   "outputs": [
    {
     "name": "stdout",
     "output_type": "stream",
     "text": [
      "odd\n",
      "even\n",
      "odd\n",
      "even\n",
      "odd\n",
      "even\n",
      "odd\n",
      "even\n",
      "odd\n",
      "even\n",
      "odd\n",
      "even\n",
      "odd\n",
      "even\n",
      "odd\n",
      "even\n",
      "odd\n",
      "even\n",
      "odd\n"
     ]
    }
   ],
   "source": [
    "i=1\n",
    "while i<20:\n",
    "    if(i%2==0):\n",
    "        print(\"even\")\n",
    "    else:\n",
    "        print(\"odd\")\n",
    "    i+=1"
   ]
  },
  {
   "cell_type": "code",
   "execution_count": 28,
   "id": "be4f3681",
   "metadata": {},
   "outputs": [
    {
     "name": "stdout",
     "output_type": "stream",
     "text": [
      "data found\n"
     ]
    }
   ],
   "source": [
    "num = [100,101,1,0,1,0,1,0,1,0]\n",
    "for i in num:\n",
    "    if i==0:\n",
    "        print(\"data found\")\n",
    "        break"
   ]
  },
  {
   "cell_type": "code",
   "execution_count": 37,
   "id": "b890a842",
   "metadata": {},
   "outputs": [
    {
     "name": "stdout",
     "output_type": "stream",
     "text": [
      "Enter a number5\n",
      "5 \tX\t 1 \t=\t 5\n",
      "5 \tX\t 2 \t=\t 55\n",
      "5 \tX\t 3 \t=\t 555\n",
      "5 \tX\t 4 \t=\t 5555\n",
      "5 \tX\t 5 \t=\t 55555\n",
      "5 \tX\t 6 \t=\t 555555\n",
      "5 \tX\t 7 \t=\t 5555555\n",
      "5 \tX\t 8 \t=\t 55555555\n",
      "5 \tX\t 9 \t=\t 555555555\n"
     ]
    }
   ],
   "source": [
    "n=input(\"Enter a number\")\n",
    "for i in range(1,10):\n",
    "    b=n * i\n",
    "    print(n,\"\\tX\\t\",i,\"\\t=\\t\",b)"
   ]
  },
  {
   "cell_type": "code",
   "execution_count": 35,
   "id": "34c2e76d",
   "metadata": {},
   "outputs": [
    {
     "name": "stdout",
     "output_type": "stream",
     "text": [
      "9\n"
     ]
    }
   ],
   "source": [
    "print(i)"
   ]
  },
  {
   "cell_type": "code",
   "execution_count": 48,
   "id": "d6a23e3f",
   "metadata": {},
   "outputs": [
    {
     "name": "stdout",
     "output_type": "stream",
     "text": [
      "Enter number of animals3\n",
      "Enter 3 number of animals\n",
      "cow\n",
      "dog\n",
      "cat\n",
      "\n",
      " cow\n",
      "\n",
      " dog\n",
      "\n",
      " cat\n"
     ]
    }
   ],
   "source": [
    "animal = []\n",
    "n = int(input(\"Enter number of animals\"))\n",
    "print(\"Enter %d number of animals\"%(n))\n",
    "for i in range(0,n):\n",
    "    animal.append(input())\n",
    "for i in range(0,n):\n",
    "     print(\"\\n\",animal[i])"
   ]
  },
  {
   "cell_type": "code",
   "execution_count": 51,
   "id": "4c283a67",
   "metadata": {},
   "outputs": [
    {
     "name": "stdout",
     "output_type": "stream",
     "text": [
      "3\n"
     ]
    }
   ],
   "source": [
    "print(len(animal))"
   ]
  },
  {
   "cell_type": "code",
   "execution_count": 52,
   "id": "03884b21",
   "metadata": {},
   "outputs": [
    {
     "name": "stdout",
     "output_type": "stream",
     "text": [
      "15\n"
     ]
    }
   ],
   "source": [
    "num=[1,2,3,4,5,6,7,8,9,0,9,8,7,6,56,-5,57]\n",
    "print(len(num))"
   ]
  },
  {
   "cell_type": "code",
   "execution_count": 59,
   "id": "723ef515",
   "metadata": {},
   "outputs": [
    {
     "data": {
      "text/plain": [
       "56"
      ]
     },
     "execution_count": 59,
     "metadata": {},
     "output_type": "execute_result"
    }
   ],
   "source": [
    "max(num)"
   ]
  },
  {
   "cell_type": "code",
   "execution_count": 60,
   "id": "bd18b63b",
   "metadata": {},
   "outputs": [
    {
     "data": {
      "text/plain": [
       "0"
      ]
     },
     "execution_count": 60,
     "metadata": {},
     "output_type": "execute_result"
    }
   ],
   "source": [
    "min(num)\n"
   ]
  },
  {
   "cell_type": "code",
   "execution_count": 61,
   "id": "b7476a47",
   "metadata": {},
   "outputs": [
    {
     "data": {
      "text/plain": [
       "0"
      ]
     },
     "execution_count": 61,
     "metadata": {},
     "output_type": "execute_result"
    }
   ],
   "source": [
    "min(num)"
   ]
  },
  {
   "cell_type": "code",
   "execution_count": 62,
   "id": "e2a377fd",
   "metadata": {},
   "outputs": [
    {
     "data": {
      "text/plain": [
       "56"
      ]
     },
     "execution_count": 62,
     "metadata": {},
     "output_type": "execute_result"
    }
   ],
   "source": [
    "max(num)"
   ]
  },
  {
   "cell_type": "code",
   "execution_count": 63,
   "id": "9dc7910d",
   "metadata": {},
   "outputs": [
    {
     "name": "stdout",
     "output_type": "stream",
     "text": [
      "[1, 2, 3, 4, 5, 6, 7, 8, 9, 0, 9, 8, 7, 6, 56]\n"
     ]
    }
   ],
   "source": [
    "print(num)"
   ]
  },
  {
   "cell_type": "code",
   "execution_count": 64,
   "id": "3d5f5599",
   "metadata": {},
   "outputs": [],
   "source": [
    "num[-1]=-5"
   ]
  },
  {
   "cell_type": "code",
   "execution_count": 65,
   "id": "d9cd2d64",
   "metadata": {},
   "outputs": [],
   "source": [
    "num[-1]=57"
   ]
  },
  {
   "cell_type": "code",
   "execution_count": 67,
   "id": "030ca661",
   "metadata": {},
   "outputs": [
    {
     "data": {
      "text/plain": [
       "0"
      ]
     },
     "execution_count": 67,
     "metadata": {},
     "output_type": "execute_result"
    }
   ],
   "source": [
    "min(num)"
   ]
  },
  {
   "cell_type": "code",
   "execution_count": 68,
   "id": "d8552fe6",
   "metadata": {},
   "outputs": [
    {
     "name": "stdout",
     "output_type": "stream",
     "text": [
      "[1, 2, 3, 4, 5, 6, 7, 8, 9, 0, 9, 8, 7, 6, 57]\n"
     ]
    }
   ],
   "source": [
    "print(num)"
   ]
  },
  {
   "cell_type": "code",
   "execution_count": 69,
   "id": "0498bb8d",
   "metadata": {},
   "outputs": [],
   "source": [
    "num[-1]=-5"
   ]
  },
  {
   "cell_type": "code",
   "execution_count": 70,
   "id": "89ec6ffb",
   "metadata": {},
   "outputs": [
    {
     "name": "stdout",
     "output_type": "stream",
     "text": [
      "[1, 2, 3, 4, 5, 6, 7, 8, 9, 0, 9, 8, 7, 6, -5]\n"
     ]
    }
   ],
   "source": [
    "print(num)"
   ]
  },
  {
   "cell_type": "code",
   "execution_count": 71,
   "id": "cdafb738",
   "metadata": {},
   "outputs": [],
   "source": [
    "num[-2]=57"
   ]
  },
  {
   "cell_type": "code",
   "execution_count": 72,
   "id": "2c3d8456",
   "metadata": {},
   "outputs": [
    {
     "name": "stdout",
     "output_type": "stream",
     "text": [
      "[1, 2, 3, 4, 5, 6, 7, 8, 9, 0, 9, 8, 7, 57, -5]\n"
     ]
    }
   ],
   "source": [
    "print(num)"
   ]
  },
  {
   "cell_type": "code",
   "execution_count": 73,
   "id": "f79ee3f6",
   "metadata": {},
   "outputs": [
    {
     "name": "stdout",
     "output_type": "stream",
     "text": [
      "[0, 1, 2, 3, 4, 5]\n"
     ]
    }
   ],
   "source": [
    "short = [0,1,2,3,4,5]\n",
    "print(short)\n"
   ]
  },
  {
   "cell_type": "code",
   "execution_count": 74,
   "id": "d16f4068",
   "metadata": {},
   "outputs": [],
   "source": [
    "short[-1]=6"
   ]
  },
  {
   "cell_type": "code",
   "execution_count": 75,
   "id": "0a915ec8",
   "metadata": {},
   "outputs": [
    {
     "name": "stdout",
     "output_type": "stream",
     "text": [
      "[0, 1, 2, 3, 4, 6]\n"
     ]
    }
   ],
   "source": [
    "print(short)"
   ]
  },
  {
   "cell_type": "code",
   "execution_count": 78,
   "id": "0ed3d17a",
   "metadata": {},
   "outputs": [],
   "source": [
    "short.remove(6)"
   ]
  },
  {
   "cell_type": "code",
   "execution_count": 79,
   "id": "fb8d5ed7",
   "metadata": {},
   "outputs": [
    {
     "name": "stdout",
     "output_type": "stream",
     "text": [
      "[0, 1, 2, 3, 4]\n"
     ]
    }
   ],
   "source": [
    "print(short)"
   ]
  },
  {
   "cell_type": "code",
   "execution_count": 80,
   "id": "f1e8ede0",
   "metadata": {},
   "outputs": [
    {
     "name": "stdout",
     "output_type": "stream",
     "text": [
      "1\n"
     ]
    }
   ],
   "source": [
    "print(short.index(1))"
   ]
  },
  {
   "cell_type": "code",
   "execution_count": 81,
   "id": "70f096f5",
   "metadata": {},
   "outputs": [],
   "source": [
    "short.append(100)"
   ]
  },
  {
   "cell_type": "code",
   "execution_count": 83,
   "id": "5762f791",
   "metadata": {},
   "outputs": [
    {
     "name": "stdout",
     "output_type": "stream",
     "text": [
      "[0, 1, 2, 3, 4, 100]\n"
     ]
    }
   ],
   "source": [
    "print(short)"
   ]
  },
  {
   "cell_type": "code",
   "execution_count": 84,
   "id": "158112ff",
   "metadata": {},
   "outputs": [
    {
     "ename": "TypeError",
     "evalue": "list.append() takes exactly one argument (2 given)",
     "output_type": "error",
     "traceback": [
      "\u001b[1;31m---------------------------------------------------------------------------\u001b[0m",
      "\u001b[1;31mTypeError\u001b[0m                                 Traceback (most recent call last)",
      "Cell \u001b[1;32mIn[84], line 1\u001b[0m\n\u001b[1;32m----> 1\u001b[0m \u001b[43mshort\u001b[49m\u001b[38;5;241;43m.\u001b[39;49m\u001b[43mappend\u001b[49m\u001b[43m(\u001b[49m\u001b[38;5;241;43m100\u001b[39;49m\u001b[43m,\u001b[49m\u001b[38;5;241;43m2\u001b[39;49m\u001b[43m)\u001b[49m\n",
      "\u001b[1;31mTypeError\u001b[0m: list.append() takes exactly one argument (2 given)"
     ]
    }
   ],
   "source": [
    "short.append(100,2)"
   ]
  },
  {
   "cell_type": "code",
   "execution_count": 85,
   "id": "8f3145f8",
   "metadata": {},
   "outputs": [],
   "source": [
    "short.extend([6,7,8,])"
   ]
  },
  {
   "cell_type": "code",
   "execution_count": 86,
   "id": "edaa1771",
   "metadata": {},
   "outputs": [
    {
     "name": "stdout",
     "output_type": "stream",
     "text": [
      "[0, 1, 2, 3, 4, 100, 6, 7, 8]\n"
     ]
    }
   ],
   "source": [
    "print(short)"
   ]
  },
  {
   "cell_type": "code",
   "execution_count": 87,
   "id": "f6052310",
   "metadata": {},
   "outputs": [],
   "source": [
    "short.sort()"
   ]
  },
  {
   "cell_type": "code",
   "execution_count": 88,
   "id": "e600ad53",
   "metadata": {},
   "outputs": [
    {
     "name": "stdout",
     "output_type": "stream",
     "text": [
      "[0, 1, 2, 3, 4, 6, 7, 8, 100]\n"
     ]
    }
   ],
   "source": [
    "print(short)"
   ]
  },
  {
   "cell_type": "code",
   "execution_count": 89,
   "id": "71456c5a",
   "metadata": {},
   "outputs": [],
   "source": [
    "short.reverse()"
   ]
  },
  {
   "cell_type": "code",
   "execution_count": 90,
   "id": "6ec61015",
   "metadata": {},
   "outputs": [
    {
     "name": "stdout",
     "output_type": "stream",
     "text": [
      "[100, 8, 7, 6, 4, 3, 2, 1, 0]\n"
     ]
    }
   ],
   "source": [
    "print(short)"
   ]
  },
  {
   "cell_type": "code",
   "execution_count": 91,
   "id": "f51c9c73",
   "metadata": {},
   "outputs": [],
   "source": [
    "short.insert(1,99)"
   ]
  },
  {
   "cell_type": "code",
   "execution_count": 92,
   "id": "6ae52df9",
   "metadata": {},
   "outputs": [
    {
     "name": "stdout",
     "output_type": "stream",
     "text": [
      "[100, 99, 8, 7, 6, 4, 3, 2, 1, 0]\n"
     ]
    }
   ],
   "source": [
    "print(short)"
   ]
  },
  {
   "cell_type": "code",
   "execution_count": 95,
   "id": "98a4c5dd",
   "metadata": {},
   "outputs": [
    {
     "data": {
      "text/plain": [
       "0"
      ]
     },
     "execution_count": 95,
     "metadata": {},
     "output_type": "execute_result"
    }
   ],
   "source": [
    "\n",
    "short.pop(len(short)-1)"
   ]
  },
  {
   "cell_type": "code",
   "execution_count": 96,
   "id": "54bfe082",
   "metadata": {},
   "outputs": [
    {
     "data": {
      "text/plain": [
       "1"
      ]
     },
     "execution_count": 96,
     "metadata": {},
     "output_type": "execute_result"
    }
   ],
   "source": [
    "short.count(100)"
   ]
  },
  {
   "cell_type": "code",
   "execution_count": 97,
   "id": "0528d480",
   "metadata": {},
   "outputs": [
    {
     "name": "stdout",
     "output_type": "stream",
     "text": [
      "What is your name? bishal\n",
      "Hello, bishal Time to play hangman!\n",
      "Start guessing...\n",
      "______guess a character:g\n",
      "Wrong\n",
      "You have 9 more guesses\n",
      "______guess a character:s\n",
      "s_____guess a character:u\n",
      "Wrong\n",
      "You have 8 more guesses\n",
      "s_____guess a character:c\n",
      "s_c___guess a character:c\n",
      "s_c___guess a character:f\n",
      "Wrong\n",
      "You have 7 more guesses\n",
      "s_c___guess a character:u\n",
      "Wrong\n",
      "You have 6 more guesses\n",
      "s_c___guess a character:e\n",
      "sec_e_guess a character:r\n",
      "secre_guess a character:t\n",
      "secretYou won\n"
     ]
    }
   ],
   "source": [
    "#importing the time module\n",
    "import time\n",
    "\n",
    "#welcoming the user\n",
    "name = input(\"What is your name? \")\n",
    "\n",
    "print (\"Hello, \" + name, \"Time to play hangman!\")\n",
    "\n",
    "#wait for 1 second\n",
    "time.sleep(1)\n",
    "\n",
    "print (\"Start guessing...\")\n",
    "time.sleep(0.5)\n",
    "\n",
    "#here we set the secret. You can select any word to play with. \n",
    "word = (\"secret\")\n",
    "\n",
    "#creates an variable with an empty value\n",
    "guesses = ''\n",
    "\n",
    "#determine the number of turns\n",
    "turns = 10\n",
    "\n",
    "# Create a while loop\n",
    "\n",
    "#check if the turns are more than zero\n",
    "while turns > 0:         \n",
    "\n",
    "    # make a counter that starts with zero\n",
    "    failed = 0             \n",
    "\n",
    "    # for every character in secret_word    \n",
    "    for char in word:      \n",
    "\n",
    "    # see if the character is in the players guess\n",
    "        if char in guesses:    \n",
    "    \n",
    "        # print then out the character\n",
    "            print (char,end=\"\"),    \n",
    "\n",
    "        else:\n",
    "    \n",
    "        # if not found, print a dash\n",
    "            print (\"_\",end=\"\"),     \n",
    "       \n",
    "        # and increase the failed counter with one\n",
    "            failed += 1    \n",
    "\n",
    "    # if failed is equal to zero\n",
    "\n",
    "    # print You Won\n",
    "    if failed == 0:        \n",
    "        print (\"You won\")\n",
    "    # exit the script\n",
    "        break            \n",
    "    # ask the user go guess a character\n",
    "    guess = input(\"guess a character:\") \n",
    "\n",
    "    # set the players guess to guesses\n",
    "    guesses += guess                    \n",
    "\n",
    "    # if the guess is not found in the secret word\n",
    "    if guess not in word:  \n",
    " \n",
    "     # turns counter decreases with 1 (now 9)\n",
    "        turns -= 1        \n",
    " \n",
    "    # print wrong\n",
    "        print (\"Wrong\")  \n",
    " \n",
    "    # how many turns are left\n",
    "        print (\"You have\", + turns, 'more guesses' )\n",
    " \n",
    "    # if the turns are equal to zero\n",
    "        if turns == 0:           \n",
    "    \n",
    "        # print \"You Lose\"\n",
    "            print (\"You Lose\"  )"
   ]
  },
  {
   "cell_type": "code",
   "execution_count": 1,
   "id": "845ac2e6",
   "metadata": {},
   "outputs": [
    {
     "name": "stdout",
     "output_type": "stream",
     "text": [
      "[['bishal', 'prajwal', 'parbati', 'bimal'], ['kiran', 'janak', 'satya']]\n"
     ]
    }
   ],
   "source": [
    "family = ['bishal','prajwal','parbati','bimal']\n",
    "friends = ['kiran','janak','satya']\n",
    "my = [family , friends]\n",
    "print(my)\n"
   ]
  },
  {
   "cell_type": "code",
   "execution_count": null,
   "id": "12624141",
   "metadata": {},
   "outputs": [
    {
     "name": "stdout",
     "output_type": "stream",
     "text": [
      "\n",
      "Welcome to Python 3.10's help utility!\n",
      "\n",
      "If this is your first time using Python, you should definitely check out\n",
      "the tutorial on the internet at https://docs.python.org/3.10/tutorial/.\n",
      "\n",
      "Enter the name of any module, keyword, or topic to get help on writing\n",
      "Python programs and using Python modules.  To quit this help utility and\n",
      "return to the interpreter, just type \"quit\".\n",
      "\n",
      "To get a list of available modules, keywords, symbols, or topics, type\n",
      "\"modules\", \"keywords\", \"symbols\", or \"topics\".  Each module also comes\n",
      "with a one-line summary of what it does; to list the modules whose name\n",
      "or summary contain a given string such as \"spam\", type \"modules spam\".\n",
      "\n",
      "help> topics\n",
      "\n",
      "Here is a list of available topics.  Enter any topic name to get more help.\n",
      "\n",
      "ASSERTION           DELETION            LOOPING             SHIFTING\n",
      "ASSIGNMENT          DICTIONARIES        MAPPINGMETHODS      SLICINGS\n",
      "ATTRIBUTEMETHODS    DICTIONARYLITERALS  MAPPINGS            SPECIALATTRIBUTES\n",
      "ATTRIBUTES          DYNAMICFEATURES     METHODS             SPECIALIDENTIFIERS\n",
      "AUGMENTEDASSIGNMENT ELLIPSIS            MODULES             SPECIALMETHODS\n",
      "BASICMETHODS        EXCEPTIONS          NAMESPACES          STRINGMETHODS\n",
      "BINARY              EXECUTION           NONE                STRINGS\n",
      "BITWISE             EXPRESSIONS         NUMBERMETHODS       SUBSCRIPTS\n",
      "BOOLEAN             FLOAT               NUMBERS             TRACEBACKS\n",
      "CALLABLEMETHODS     FORMATTING          OBJECTS             TRUTHVALUE\n",
      "CALLS               FRAMEOBJECTS        OPERATORS           TUPLELITERALS\n",
      "CLASSES             FRAMES              PACKAGES            TUPLES\n",
      "CODEOBJECTS         FUNCTIONS           POWER               TYPEOBJECTS\n",
      "COMPARISON          IDENTIFIERS         PRECEDENCE          TYPES\n",
      "COMPLEX             IMPORTING           PRIVATENAMES        UNARY\n",
      "CONDITIONAL         INTEGER             RETURNING           UNICODE\n",
      "CONTEXTMANAGERS     LISTLITERALS        SCOPING             \n",
      "CONVERSIONS         LISTS               SEQUENCEMETHODS     \n",
      "DEBUGGING           LITERALS            SEQUENCES           \n",
      "\n",
      "help> list\n",
      "Help on class list in module builtins:\n",
      "\n",
      "class list(object)\n",
      " |  list(iterable=(), /)\n",
      " |  \n",
      " |  Built-in mutable sequence.\n",
      " |  \n",
      " |  If no argument is given, the constructor creates a new empty list.\n",
      " |  The argument must be an iterable if specified.\n",
      " |  \n",
      " |  Methods defined here:\n",
      " |  \n",
      " |  __add__(self, value, /)\n",
      " |      Return self+value.\n",
      " |  \n",
      " |  __contains__(self, key, /)\n",
      " |      Return key in self.\n",
      " |  \n",
      " |  __delitem__(self, key, /)\n",
      " |      Delete self[key].\n",
      " |  \n",
      " |  __eq__(self, value, /)\n",
      " |      Return self==value.\n",
      " |  \n",
      " |  __ge__(self, value, /)\n",
      " |      Return self>=value.\n",
      " |  \n",
      " |  __getattribute__(self, name, /)\n",
      " |      Return getattr(self, name).\n",
      " |  \n",
      " |  __getitem__(...)\n",
      " |      x.__getitem__(y) <==> x[y]\n",
      " |  \n",
      " |  __gt__(self, value, /)\n",
      " |      Return self>value.\n",
      " |  \n",
      " |  __iadd__(self, value, /)\n",
      " |      Implement self+=value.\n",
      " |  \n",
      " |  __imul__(self, value, /)\n",
      " |      Implement self*=value.\n",
      " |  \n",
      " |  __init__(self, /, *args, **kwargs)\n",
      " |      Initialize self.  See help(type(self)) for accurate signature.\n",
      " |  \n",
      " |  __iter__(self, /)\n",
      " |      Implement iter(self).\n",
      " |  \n",
      " |  __le__(self, value, /)\n",
      " |      Return self<=value.\n",
      " |  \n",
      " |  __len__(self, /)\n",
      " |      Return len(self).\n",
      " |  \n",
      " |  __lt__(self, value, /)\n",
      " |      Return self<value.\n",
      " |  \n",
      " |  __mul__(self, value, /)\n",
      " |      Return self*value.\n",
      " |  \n",
      " |  __ne__(self, value, /)\n",
      " |      Return self!=value.\n",
      " |  \n",
      " |  __repr__(self, /)\n",
      " |      Return repr(self).\n",
      " |  \n",
      " |  __reversed__(self, /)\n",
      " |      Return a reverse iterator over the list.\n",
      " |  \n",
      " |  __rmul__(self, value, /)\n",
      " |      Return value*self.\n",
      " |  \n",
      " |  __setitem__(self, key, value, /)\n",
      " |      Set self[key] to value.\n",
      " |  \n",
      " |  __sizeof__(self, /)\n",
      " |      Return the size of the list in memory, in bytes.\n",
      " |  \n",
      " |  append(self, object, /)\n",
      " |      Append object to the end of the list.\n",
      " |  \n",
      " |  clear(self, /)\n",
      " |      Remove all items from list.\n",
      " |  \n",
      " |  copy(self, /)\n",
      " |      Return a shallow copy of the list.\n",
      " |  \n",
      " |  count(self, value, /)\n",
      " |      Return number of occurrences of value.\n",
      " |  \n",
      " |  extend(self, iterable, /)\n",
      " |      Extend list by appending elements from the iterable.\n",
      " |  \n",
      " |  index(self, value, start=0, stop=9223372036854775807, /)\n",
      " |      Return first index of value.\n",
      " |      \n",
      " |      Raises ValueError if the value is not present.\n",
      " |  \n",
      " |  insert(self, index, object, /)\n",
      " |      Insert object before index.\n",
      " |  \n",
      " |  pop(self, index=-1, /)\n",
      " |      Remove and return item at index (default last).\n",
      " |      \n",
      " |      Raises IndexError if list is empty or index is out of range.\n",
      " |  \n",
      " |  remove(self, value, /)\n",
      " |      Remove first occurrence of value.\n",
      " |      \n",
      " |      Raises ValueError if the value is not present.\n",
      " |  \n",
      " |  reverse(self, /)\n",
      " |      Reverse *IN PLACE*.\n",
      " |  \n",
      " |  sort(self, /, *, key=None, reverse=False)\n",
      " |      Sort the list in ascending order and return None.\n",
      " |      \n",
      " |      The sort is in-place (i.e. the list itself is modified) and stable (i.e. the\n",
      " |      order of two equal elements is maintained).\n",
      " |      \n",
      " |      If a key function is given, apply it once to each list item and sort them,\n",
      " |      ascending or descending, according to their function values.\n",
      " |      \n",
      " |      The reverse flag can be set to sort in descending order.\n",
      " |  \n",
      " |  ----------------------------------------------------------------------\n",
      " |  Class methods defined here:\n",
      " |  \n",
      " |  __class_getitem__(...) from builtins.type\n",
      " |      See PEP 585\n",
      " |  \n",
      " |  ----------------------------------------------------------------------\n",
      " |  Static methods defined here:\n",
      " |  \n",
      " |  __new__(*args, **kwargs) from builtins.type\n",
      " |      Create and return a new object.  See help(type) for accurate signature.\n",
      " |  \n",
      " |  ----------------------------------------------------------------------\n",
      " |  Data and other attributes defined here:\n",
      " |  \n",
      " |  __hash__ = None\n",
      "\n"
     ]
    }
   ],
   "source": [
    "help()"
   ]
  },
  {
   "cell_type": "code",
   "execution_count": null,
   "id": "5f4b273e",
   "metadata": {},
   "outputs": [],
   "source": []
  }
 ],
 "metadata": {
  "kernelspec": {
   "display_name": "Python 3 (ipykernel)",
   "language": "python",
   "name": "python3"
  },
  "language_info": {
   "codemirror_mode": {
    "name": "ipython",
    "version": 3
   },
   "file_extension": ".py",
   "mimetype": "text/x-python",
   "name": "python",
   "nbconvert_exporter": "python",
   "pygments_lexer": "ipython3",
   "version": "3.10.9"
  }
 },
 "nbformat": 4,
 "nbformat_minor": 5
}
