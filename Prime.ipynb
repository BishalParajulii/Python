{
 "cells": [
  {
   "cell_type": "code",
   "execution_count": 7,
   "id": "22a4b4a3",
   "metadata": {},
   "outputs": [
    {
     "name": "stdout",
     "output_type": "stream",
     "text": [
      "Enter a number8\n",
      "not prime\n"
     ]
    }
   ],
   "source": [
    "a = int(input(\"Enter a number\"))\n",
    "for i in range(2,a):\n",
    "    if a % i ==0:\n",
    "        print(\"not prime\")\n",
    "        break\n",
    "else:\n",
    "    print(\"Prime\")"
   ]
  },
  {
   "cell_type": "code",
   "execution_count": 8,
   "id": "dbe695db",
   "metadata": {},
   "outputs": [
    {
     "name": "stdout",
     "output_type": "stream",
     "text": [
      "array('i', [1, 2, 3, 4, 5, 6, 7, 8])\n"
     ]
    }
   ],
   "source": [
    "from array import *\n",
    "vals = array('i' , [1,2,3,4,5,6,7,8])\n",
    "print(vals)"
   ]
  },
  {
   "cell_type": "code",
   "execution_count": 10,
   "id": "151d83f0",
   "metadata": {},
   "outputs": [
    {
     "name": "stdout",
     "output_type": "stream",
     "text": [
      "2\n",
      "3\n",
      "4\n",
      "5\n",
      "6\n",
      "7\n",
      "8\n"
     ]
    },
    {
     "ename": "IndexError",
     "evalue": "array index out of range",
     "output_type": "error",
     "traceback": [
      "\u001b[1;31m---------------------------------------------------------------------------\u001b[0m",
      "\u001b[1;31mIndexError\u001b[0m                                Traceback (most recent call last)",
      "Cell \u001b[1;32mIn[10], line 2\u001b[0m\n\u001b[0;32m      1\u001b[0m \u001b[38;5;28;01mfor\u001b[39;00m i \u001b[38;5;129;01min\u001b[39;00m vals:\n\u001b[1;32m----> 2\u001b[0m     \u001b[38;5;28mprint\u001b[39m(\u001b[43mvals\u001b[49m\u001b[43m[\u001b[49m\u001b[43mi\u001b[49m\u001b[43m]\u001b[49m)\n",
      "\u001b[1;31mIndexError\u001b[0m: array index out of range"
     ]
    }
   ],
   "source": [
    "for i in vals:\n",
    "    print(vals[i])"
   ]
  },
  {
   "cell_type": "code",
   "execution_count": null,
   "id": "42b96126",
   "metadata": {},
   "outputs": [],
   "source": []
  }
 ],
 "metadata": {
  "kernelspec": {
   "display_name": "Python 3 (ipykernel)",
   "language": "python",
   "name": "python3"
  },
  "language_info": {
   "codemirror_mode": {
    "name": "ipython",
    "version": 3
   },
   "file_extension": ".py",
   "mimetype": "text/x-python",
   "name": "python",
   "nbconvert_exporter": "python",
   "pygments_lexer": "ipython3",
   "version": "3.10.9"
  }
 },
 "nbformat": 4,
 "nbformat_minor": 5
}
